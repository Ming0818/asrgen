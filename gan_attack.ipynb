{
 "cells": [
  {
   "cell_type": "code",
   "execution_count": 1,
   "metadata": {},
   "outputs": [],
   "source": [
    "%matplotlib inline\n",
    "import matplotlib\n",
    "import matplotlib.pylab as plt\n",
    "import IPython.display as ipd\n",
    "from sklearn.metrics import confusion_matrix\n",
    "import os\n",
    "import numpy as np\n",
    "import torch\n",
    "from models import Generator, SpeakerRecognitionModel"
   ]
  },
  {
   "cell_type": "code",
   "execution_count": 2,
   "metadata": {},
   "outputs": [
    {
     "data": {
      "text/plain": [
       "<torch.autograd.grad_mode.no_grad at 0x7f18036a9250>"
      ]
     },
     "execution_count": 2,
     "metadata": {},
     "output_type": "execute_result"
    }
   ],
   "source": [
    "torch.no_grad()"
   ]
  },
  {
   "cell_type": "code",
   "execution_count": 3,
   "metadata": {},
   "outputs": [],
   "source": [
    "# load GAN generator\n",
    "gan_path = 'checkpoint_dcgan_speaker0_beta1.0_clr0.0001_grl0.0001_30000'\n",
    "G_net = Generator(64)\n",
    "G_net.load_state_dict(torch.load(gan_path, map_location='cpu')['G_net'])"
   ]
  },
  {
   "cell_type": "code",
   "execution_count": 4,
   "metadata": {},
   "outputs": [],
   "source": [
    "# load Speaker Recognition\n",
    "sr_path = 'sr_model.pt'\n",
    "N_CLASSES = 102\n",
    "SR_model = SpeakerRecognitionModel(N_CLASSES)\n",
    "SR_model.load_state_dict(torch.load(sr_path, map_location='cpu')['model'])"
   ]
  },
  {
   "cell_type": "code",
   "execution_count": 5,
   "metadata": {},
   "outputs": [
    {
     "data": {
      "text/plain": [
       "Generator(\n",
       "  (preprocess): Linear(in_features=128, out_features=8192, bias=True)\n",
       "  (bn): BatchNorm2d(512, eps=1e-05, momentum=0.1, affine=True, track_running_stats=True)\n",
       "  (relu): ReLU(inplace)\n",
       "  (block1): Sequential(\n",
       "    (0): ConvTranspose2d(512, 256, kernel_size=(4, 4), stride=(2, 2), padding=(1, 1))\n",
       "    (1): BatchNorm2d(256, eps=1e-05, momentum=0.1, affine=True, track_running_stats=True)\n",
       "    (2): ReLU(inplace)\n",
       "  )\n",
       "  (block2): Sequential(\n",
       "    (0): ConvTranspose2d(256, 128, kernel_size=(4, 4), stride=(2, 2), padding=(1, 1))\n",
       "    (1): BatchNorm2d(128, eps=1e-05, momentum=0.1, affine=True, track_running_stats=True)\n",
       "    (2): ReLU(inplace)\n",
       "  )\n",
       "  (block3): Sequential(\n",
       "    (0): ConvTranspose2d(128, 64, kernel_size=(4, 4), stride=(2, 2), padding=(1, 1))\n",
       "    (1): BatchNorm2d(64, eps=1e-05, momentum=0.1, affine=True, track_running_stats=True)\n",
       "    (2): ReLU(inplace)\n",
       "  )\n",
       "  (deconv_out): ConvTranspose2d(64, 1, kernel_size=(4, 4), stride=(2, 2), padding=(1, 1))\n",
       "  (tanh): Tanh()\n",
       ")"
      ]
     },
     "execution_count": 5,
     "metadata": {},
     "output_type": "execute_result"
    }
   ],
   "source": [
    "G_net.cuda()"
   ]
  },
  {
   "cell_type": "code",
   "execution_count": 6,
   "metadata": {},
   "outputs": [
    {
     "data": {
      "text/plain": [
       "SpeakerRecognitionModel(\n",
       "  (convs): Sequential(\n",
       "    (0): Conv2d(1, 32, kernel_size=(3, 3), stride=(1, 1), padding=(1, 1))\n",
       "    (1): ReLU()\n",
       "    (2): MaxPool2d(kernel_size=2, stride=2, padding=0, dilation=1, ceil_mode=False)\n",
       "    (3): Conv2d(32, 64, kernel_size=(3, 3), stride=(1, 1), padding=(1, 1))\n",
       "    (4): ReLU()\n",
       "    (5): MaxPool2d(kernel_size=2, stride=2, padding=0, dilation=1, ceil_mode=False)\n",
       "  )\n",
       "  (linears): Sequential(\n",
       "    (0): Linear(in_features=16384, out_features=256, bias=True)\n",
       "    (1): Dropout(p=0.5)\n",
       "    (2): Linear(in_features=256, out_features=102, bias=True)\n",
       "  )\n",
       ")"
      ]
     },
     "execution_count": 6,
     "metadata": {},
     "output_type": "execute_result"
    }
   ],
   "source": [
    "SR_model.cuda()"
   ]
  },
  {
   "cell_type": "code",
   "execution_count": 7,
   "metadata": {},
   "outputs": [
    {
     "name": "stderr",
     "output_type": "stream",
     "text": [
      "/usr/local/lib/python2.7/dist-packages/ipykernel_launcher.py:7: UserWarning: volatile was removed and now has no effect. Use `with torch.no_grad():` instead.\n",
      "  import sys\n"
     ]
    }
   ],
   "source": [
    "SPEAKER_ID = 0\n",
    "N_ATTACKS = 100\n",
    "SAMPLES_PER_ATTACK = 256\n",
    "predictions = []\n",
    "accuracy = 0.0\n",
    "for i in range(0, N_ATTACKS*SAMPLES_PER_ATTACK, SAMPLES_PER_ATTACK):\n",
    "    noise = torch.autograd.Variable(torch.randn(SAMPLES_PER_ATTACK, 128)).cuda()\n",
    "    samples = torch.autograd.Variable(G_net(noise)).unsqueeze(1).cuda()\n",
    "\n",
    "    y_hat = SR_model(samples)                                                                 \n",
    "    _, predicted = torch.max(y_hat, 1)\n",
    "    predictions.append(predicted.data.cpu().numpy())\n",
    "    if SPEAKER_ID is not None:\n",
    "        y = torch.ones(SAMPLES_PER_ATTACK).long().cuda() * SPEAKER_ID\n",
    "        accuracy += float((predicted == y).squeeze().sum())\n",
    "predictions = np.array(predictions).flatten()"
   ]
  },
  {
   "cell_type": "code",
   "execution_count": 8,
   "metadata": {
    "scrolled": false
   },
   "outputs": [
    {
     "name": "stdout",
     "output_type": "stream",
     "text": [
      "Attack accuracy 67.7890625%\n"
     ]
    },
    {
     "data": {
      "image/png": "[encoded data removed]",
      "text/plain": [
       "<Figure size 432x288 with 1 Axes>"
      ]
     },
     "metadata": {},
     "output_type": "display_data"
    }
   ],
   "source": [
    "if SPEAKER_ID is not None:        \n",
    "    print(\"Attack accuracy {}%\".format(100*accuracy / (N_ATTACKS * SAMPLES_PER_ATTACK)))\n",
    "    cm = confusion_matrix(y_true=[SPEAKER_ID]*len(predictions), y_pred=predictions, labels=np.arange(0, N_CLASSES))\n",
    "    fig, ax = plt.subplots(1, 1, figsize=(16, 16))\n",
    "    ax.imshow(cm, interpolation='nearest', cmap='gray')\n",
    "    tick_marks = np.arange(N_CLASSES)\n",
    "    plt.tight_layout()\n",
    "    ax.set_ylabel('True label')\n",
    "    ax.set_xlabel('Predicted label')\n",
    "else:\n",
    "    predictions = np.array(predictions).flatten()\n",
    "    _ = plt.hist(predictions, bins=102)    \n",
    "    print(\"Attack accuracy {}%\".format(100*np.sum(predictions < 50) / float(len(predictions))))"
   ]
  }
 ],
 "metadata": {
  "kernelspec": {
   "display_name": "Python 2",
   "language": "python",
   "name": "python2"
  },
  "language_info": {
   "codemirror_mode": {
    "name": "ipython",
    "version": 2
   },
   "file_extension": ".py",
   "mimetype": "text/x-python",
   "name": "python",
   "nbconvert_exporter": "python",
   "pygments_lexer": "ipython2",
   "version": "2.7.12"
  }
 },
 "nbformat": 4,
 "nbformat_minor": 2
}
